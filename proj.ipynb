{
 "metadata": {
  "language_info": {
   "codemirror_mode": {
    "name": "ipython",
    "version": 3
   },
   "file_extension": ".py",
   "mimetype": "text/x-python",
   "name": "python",
   "nbconvert_exporter": "python",
   "pygments_lexer": "ipython3",
   "version": "3.8.8"
  },
  "orig_nbformat": 2,
  "kernelspec": {
   "name": "python388jvsc74a57bd0b3ba2566441a7c06988d0923437866b63cedc61552a5af99d1f4fb67d367b25f",
   "display_name": "Python 3.8.8 64-bit ('base': conda)"
  }
 },
 "nbformat": 4,
 "nbformat_minor": 2,
 "cells": [
  {
   "cell_type": "code",
   "execution_count": 2,
   "metadata": {},
   "outputs": [],
   "source": [
    "import matplotlib.pyplot as plt\n",
    "import numpy as np\n",
    "import cv2"
   ]
  },
  {
   "cell_type": "code",
   "execution_count": 3,
   "metadata": {},
   "outputs": [],
   "source": [
    "import yolo\n",
    "YOLO_WEIGHTS = './config/yolov4_Custom_FullData.weights'\n",
    "YOLO_CFG = './config/yolov4TinyCustom.cfg'\n",
    "YOLO_NET = cv2.dnn.readNet(YOLO_WEIGHTS, YOLO_CFG)"
   ]
  },
  {
   "cell_type": "code",
   "execution_count": null,
   "metadata": {},
   "outputs": [],
   "source": [
    "def get_output_layers(net):\n",
    "\tlayer_names = net.getLayerNames()\n",
    "\toutput_layers = [layer_names[i[0] - 1] for i in net.getUnconnectedOutLayers()]\n",
    "\treturn output_layers\n",
    "\n",
    "def getYoloPredictions(frame, YOLO_NET):\n",
    "\tclass_ids = []\n",
    "\tconfidences = []\n",
    "\tboxes = []\n",
    "\tblob = cv2.dnn.blobFromImage(frame, 0.00392, (416,416), (0,0,0), True, crop=False)\n",
    "\tYOLO_NET.setInput(blob)\n",
    "\touts = YOLO_NET.forward(get_output_layers(YOLO_NET))\n",
    "\twidth = frame.shape[1]\n",
    "\theight = frame.shape[0]\n",
    "\n",
    "\tfor out in outs:\n",
    "\t\tfor detection in out:\n",
    "\t\t\tscores = detection[5:]\n",
    "\t\t\tclass_id = np.argmax(scores)\n",
    "\t\t\tconfidence = scores[class_id]\n",
    "\t\t\tif confidence > 0.5:\n",
    "\t\t\t\tcenter_x = int(detection[0] * width)\n",
    "\t\t\t\tcenter_y = int(detection[1] * height)\n",
    "\t\t\t\tw = int(detection[2] * width)\n",
    "\t\t\t\th = int(detection[3] * height)\n",
    "\t\t\t\tx = center_x - w / 2\n",
    "\t\t\t\ty = center_y - h / 2\n",
    "\t\t\t\tclass_ids.append(class_id)\n",
    "\t\t\t\tconfidences.append(float(confidence))\n",
    "\t\t\t\tboxes.append([x, y, w, h])\n",
    "\n",
    "\tindices =  cv2.dnn.NMSBoxes(boxes, confidences,  0.5,  0.4)\n",
    "\treturn indices, boxes"
   ]
  },
  {
   "cell_type": "code",
   "execution_count": 4,
   "metadata": {},
   "outputs": [
    {
     "output_type": "stream",
     "name": "stdout",
     "text": [
      "()\n"
     ]
    }
   ],
   "source": [
    "frame = cv2.imread('images/man.png')\n",
    "predictions, boxes = yolo.getYoloPredictions(frame, YOLO_NET)\n",
    "\n",
    "print(predictions)\n",
    "\n",
    "for current in predictions:\n",
    "    print('a')\n",
    "    current = current[0]\n",
    "    box = boxes[current]\n",
    "    [x, y, w, h] = box\n",
    "    label = str(names[current])\n",
    "\n",
    "    cv2.rectangle(\n",
    "        frame,\n",
    "        (round(x), round(y)),\n",
    "        (round(x+w), round(y+h)),\n",
    "        (255, 0, 0),\n",
    "        0\n",
    "    )\n",
    "\n",
    "    cv2.putText(\n",
    "        frame,\n",
    "        label,\n",
    "        (100, 200),\n",
    "        cv2_FONT_HERSHEY_SIMPLEX,\n",
    "        2,\n",
    "        (255, 0, 0),\n",
    "        2,\n",
    "        cv2, LINE_AA,\n",
    "    )\n",
    "\n",
    "\n",
    "# cv2.imshow(\"pee\", frame)\n",
    "# cv2.waitKey(0)\n",
    "# plt.imshow(frame)"
   ]
  },
  {
   "cell_type": "code",
   "execution_count": null,
   "metadata": {},
   "outputs": [],
   "source": []
  }
 ]
}